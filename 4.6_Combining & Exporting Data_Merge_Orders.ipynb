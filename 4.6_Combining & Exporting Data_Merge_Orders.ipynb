{
 "cells": [
  {
   "cell_type": "markdown",
   "id": "6d06a162-336f-4cfc-a29d-9aafb80431f0",
   "metadata": {},
   "source": [
    "## Merge Orders with Products Ordered"
   ]
  },
  {
   "cell_type": "markdown",
   "id": "7e94a152-49d6-43ad-8f65-bbc58823a621",
   "metadata": {},
   "source": [
    "### 🔹 Step 1: Setup & Imports"
   ]
  },
  {
   "cell_type": "code",
   "execution_count": 2,
   "id": "d42ed9ab-f569-4e79-84ef-950ff99661fe",
   "metadata": {},
   "outputs": [],
   "source": [
    "# Imports\n",
    "import pandas as pd\n",
    "import numpy as np\n",
    "import os\n",
    "\n",
    "# Define folder paths\n",
    "base_path = r'C:\\Users\\moein\\anaconda3\\4 - Python Fundamentals\\02 Data'\n",
    "prepared_path = os.path.join(base_path, 'Prepared Data')\n",
    "original_path = os.path.join(base_path, 'Original Data')"
   ]
  },
  {
   "cell_type": "markdown",
   "id": "87238d1e-9bf2-4e91-aecc-1986a4701eda",
   "metadata": {},
   "source": [
    "### 🔹 Step 2: Load Prepared Orders + Orders-Products Data"
   ]
  },
  {
   "cell_type": "code",
   "execution_count": 3,
   "id": "0291aad5-ec21-49b2-a74a-fc5d4b108881",
   "metadata": {},
   "outputs": [],
   "source": [
    "# Load cleaned orders file\n",
    "df_ords = pd.read_csv(os.path.join(prepared_path, 'orders_checked.csv'))\n",
    "\n",
    "# Load the new order-product connection file\n",
    "df_ords_prior = pd.read_csv(os.path.join(original_path, 'orders_products_prior.csv'))"
   ]
  },
  {
   "cell_type": "markdown",
   "id": "4edf8708-6b3f-4359-b4e3-1fe11a5e0fb4",
   "metadata": {},
   "source": [
    "### 🔹 Step 3: Merge on order_id"
   ]
  },
  {
   "cell_type": "code",
   "execution_count": 4,
   "id": "88bdbee3-ca73-4b5e-a835-5a05f794a2e5",
   "metadata": {},
   "outputs": [],
   "source": [
    "# Merge orders with prior order-product links\n",
    "df_orders_products_combined = df_ords.merge(df_ords_prior, on='order_id', indicator=True)"
   ]
  },
  {
   "cell_type": "markdown",
   "id": "a729b777-3941-4c59-b976-9afc0b4146c5",
   "metadata": {},
   "source": [
    "### 🔹 Step 4: Check the Merge"
   ]
  },
  {
   "cell_type": "code",
   "execution_count": 5,
   "id": "86c47807-aaf3-4909-9b39-8af074bf7373",
   "metadata": {},
   "outputs": [
    {
     "name": "stdout",
     "output_type": "stream",
     "text": [
      "_merge\n",
      "both          32434489\n",
      "left_only            0\n",
      "right_only           0\n",
      "Name: count, dtype: int64\n",
      "(32434489, 10)\n"
     ]
    }
   ],
   "source": [
    "print(df_orders_products_combined['_merge'].value_counts())\n",
    "print(df_orders_products_combined.shape)"
   ]
  },
  {
   "cell_type": "markdown",
   "id": "0d76388c-c139-4660-8710-e76b3148c382",
   "metadata": {},
   "source": [
    "### 🔹 Step 5: Export as Pickle"
   ]
  },
  {
   "cell_type": "code",
   "execution_count": 6,
   "id": "0d3c0f22-029d-4f1a-b313-0bd372bfc35b",
   "metadata": {},
   "outputs": [],
   "source": [
    "df_orders_products_combined.to_pickle(os.path.join(prepared_path, 'orders_products_combined.pkl'))"
   ]
  }
 ],
 "metadata": {
  "kernelspec": {
   "display_name": "Python [conda env:base] *",
   "language": "python",
   "name": "conda-base-py"
  },
  "language_info": {
   "codemirror_mode": {
    "name": "ipython",
    "version": 3
   },
   "file_extension": ".py",
   "mimetype": "text/x-python",
   "name": "python",
   "nbconvert_exporter": "python",
   "pygments_lexer": "ipython3",
   "version": "3.12.7"
  }
 },
 "nbformat": 4,
 "nbformat_minor": 5
}
