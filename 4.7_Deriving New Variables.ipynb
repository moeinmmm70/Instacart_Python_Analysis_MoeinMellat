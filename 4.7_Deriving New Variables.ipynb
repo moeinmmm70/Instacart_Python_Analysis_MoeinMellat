{
 "cells": [
  {
   "cell_type": "markdown",
   "id": "b9927aaa-46e1-4520-b272-d6207594c421",
   "metadata": {},
   "source": [
    "### 🔹 Step 1: Setup & Imports"
   ]
  },
  {
   "cell_type": "code",
   "execution_count": 12,
   "id": "e5ff58c0-ae17-4898-a3d3-4892c4edc296",
   "metadata": {},
   "outputs": [],
   "source": [
    "# Imports\n",
    "import pandas as pd\n",
    "import numpy as np\n",
    "import os\n",
    "\n",
    "# Define folder paths\n",
    "base_path = r'C:\\Users\\moein\\anaconda3\\4 - Python Fundamentals\\02 Data'\n",
    "prepared_path = os.path.join(base_path, 'Prepared Data')\n",
    "\n",
    "# Load the previously merged dataframe\n",
    "file_path_1 = os.path.join(prepared_path, 'orders_products_combined.pkl')\n",
    "orders_products_combined = pd.read_pickle(file_path_1)\n",
    "file_path_2 = os.path.join(prepared_path, 'ords_prods_merge.pkl')\n",
    "ords_prods_merge = pd.read_pickle(file_path_2)"
   ]
  },
  {
   "cell_type": "code",
   "execution_count": 13,
   "id": "1b04dc4b-1e10-4d3b-9dc2-429a7c814027",
   "metadata": {},
   "outputs": [
    {
     "data": {
      "text/plain": [
       "Index(['order_id', 'user_id', 'order_number', 'orders_day_of_week',\n",
       "       'order_hour_of_day', 'days_since_prior_order', 'product_id',\n",
       "       'add_to_cart_order', 'reordered', '_merge'],\n",
       "      dtype='object')"
      ]
     },
     "execution_count": 13,
     "metadata": {},
     "output_type": "execute_result"
    }
   ],
   "source": [
    "orders_products_combined.columns"
   ]
  },
  {
   "cell_type": "code",
   "execution_count": 14,
   "id": "e225e4b5-9146-4903-8ebc-a51b52641829",
   "metadata": {},
   "outputs": [
    {
     "data": {
      "text/plain": [
       "Index(['order_id', 'user_id', 'order_number', 'orders_day_of_week',\n",
       "       'order_hour_of_day', 'days_since_prior_order', 'product_id',\n",
       "       'add_to_cart_order', 'reordered', '_merge', 'product_name', 'aisle_id',\n",
       "       'department_id', 'prices', 'merge_flag'],\n",
       "      dtype='object')"
      ]
     },
     "execution_count": 14,
     "metadata": {},
     "output_type": "execute_result"
    }
   ],
   "source": [
    "ords_prods_merge.columns"
   ]
  },
  {
   "cell_type": "markdown",
   "id": "458e552a-b873-4b92-b053-5ecbbe6a4d9f",
   "metadata": {},
   "source": [
    "### 🔹 Step 2: Create price_label Column"
   ]
  },
  {
   "cell_type": "code",
   "execution_count": 15,
   "id": "edb03c04-03e3-450b-a160-782b1ec4add7",
   "metadata": {},
   "outputs": [],
   "source": [
    "# Create price_label column based on price ranges\n",
    "ords_prods_merge.loc[ords_prods_merge['prices'] <= 5, 'price_label'] = 'Low-range product'\n",
    "ords_prods_merge.loc[(ords_prods_merge['prices'] > 5) & (ords_prods_merge['prices'] <= 15), 'price_label'] = 'Mid-range product'\n",
    "ords_prods_merge.loc[ords_prods_merge['prices'] > 15, 'price_label'] = 'High-range product'"
   ]
  },
  {
   "cell_type": "markdown",
   "id": "e3a993c3-64ca-4ee2-9c17-dcd20e37f3d3",
   "metadata": {},
   "source": [
    "### 🔹 Step 3: Identify Top and Bottom Days by Order Volume"
   ]
  },
  {
   "cell_type": "code",
   "execution_count": 17,
   "id": "bd179d82-374e-4ad1-bcfe-d28e7071f69d",
   "metadata": {},
   "outputs": [
    {
     "name": "stdout",
     "output_type": "stream",
     "text": [
      "orders_day_of_week\n",
      "0    6209632\n",
      "1    5665830\n",
      "6    4500246\n",
      "2    4217766\n",
      "5    4209449\n",
      "3    3844096\n",
      "4    3787193\n",
      "Name: count, dtype: int64\n"
     ]
    }
   ],
   "source": [
    "# Count orders by day of week\n",
    "day_counts = ords_prods_merge['orders_day_of_week'].value_counts().sort_values(ascending=False)\n",
    "print(day_counts)"
   ]
  },
  {
   "cell_type": "code",
   "execution_count": 18,
   "id": "a12ff445-4059-4659-a608-4b578a22cce4",
   "metadata": {},
   "outputs": [
    {
     "name": "stdout",
     "output_type": "stream",
     "text": [
      "busiest_days\n",
      "Regular days    12562108\n",
      "Busiest days    11875462\n",
      "Slowest days     7996642\n",
      "Name: count, dtype: int64\n"
     ]
    }
   ],
   "source": [
    "# Define busiest and slowest days (replace with actual days from Step 3 output)\n",
    "busiest_days = [0, 1]   # Example: Saturday & Sunday\n",
    "slowest_days = [4, 5]   # Example: Wednesday & Thursday\n",
    "\n",
    "# Assign new labels\n",
    "ords_prods_merge['busiest_days'] = 'Regular days'\n",
    "ords_prods_merge.loc[ords_prods_merge['orders_day_of_week'].isin(busiest_days), 'busiest_days'] = 'Busiest days'\n",
    "ords_prods_merge.loc[ords_prods_merge['orders_day_of_week'].isin(slowest_days), 'busiest_days'] = 'Slowest days'\n",
    "\n",
    "# Check new column distribution\n",
    "print(ords_prods_merge['busiest_days'].value_counts(dropna=False))"
   ]
  },
  {
   "cell_type": "markdown",
   "id": "ccc59c4f-3377-44fa-8240-3886cd8a4a17",
   "metadata": {},
   "source": [
    "### 🔹 Step 5: Identify Order Volume by Hour"
   ]
  },
  {
   "cell_type": "code",
   "execution_count": 19,
   "id": "064ac6c7-257f-4a6e-8955-da8355c170fb",
   "metadata": {},
   "outputs": [
    {
     "name": "stdout",
     "output_type": "stream",
     "text": [
      "order_hour_of_day\n",
      "10    2764390\n",
      "11    2738585\n",
      "14    2691563\n",
      "15    2664522\n",
      "13    2663272\n",
      "12    2620800\n",
      "16    2537469\n",
      "9     2456661\n",
      "17    2089452\n",
      "8     1719952\n",
      "18    1637922\n",
      "19    1259382\n",
      "20     977017\n",
      "7      891928\n",
      "21     796362\n",
      "22     634737\n",
      "23     402612\n",
      "6      290770\n",
      "0      218942\n",
      "1      115786\n",
      "5       88057\n",
      "2       69431\n",
      "4       53283\n",
      "3       51317\n",
      "Name: count, dtype: int64\n"
     ]
    }
   ],
   "source": [
    "# Count frequency of orders by hour\n",
    "hour_counts = ords_prods_merge['order_hour_of_day'].value_counts().sort_values(ascending=False)\n",
    "print(hour_counts)"
   ]
  },
  {
   "cell_type": "markdown",
   "id": "8feffa20-f31d-48c6-a361-7b747650e5ba",
   "metadata": {},
   "source": [
    "### 🔹 Step 6: Create busiest_period_of_day Column"
   ]
  },
  {
   "cell_type": "code",
   "execution_count": 20,
   "id": "e5241cb9-3ee4-4468-b15d-1c1e872b532c",
   "metadata": {},
   "outputs": [
    {
     "name": "stdout",
     "output_type": "stream",
     "text": [
      "busiest_period_of_day\n",
      "Average orders    21091725\n",
      "Most orders       10859060\n",
      "Fewest orders       483427\n",
      "Name: count, dtype: int64\n"
     ]
    }
   ],
   "source": [
    "# Define busiest and quietest hours (adjust based on Step 5 output)\n",
    "most_orders = [10, 11, 14, 15]   # Example busiest hours\n",
    "fewest_orders = [3, 4, 5, 6]     # Example quietest hours\n",
    "\n",
    "# Assign labels\n",
    "ords_prods_merge['busiest_period_of_day'] = 'Average orders'\n",
    "ords_prods_merge.loc[ords_prods_merge['order_hour_of_day'].isin(most_orders), 'busiest_period_of_day'] = 'Most orders'\n",
    "ords_prods_merge.loc[ords_prods_merge['order_hour_of_day'].isin(fewest_orders), 'busiest_period_of_day'] = 'Fewest orders'\n",
    "\n",
    "# Check new column distribution\n",
    "print(ords_prods_merge['busiest_period_of_day'].value_counts(dropna=False))"
   ]
  },
  {
   "cell_type": "markdown",
   "id": "5c7eb8d0-589d-42cd-8cb0-7a599dc0b33d",
   "metadata": {},
   "source": [
    "### 🔹 Step 7: Export Updated DataFrame"
   ]
  },
  {
   "cell_type": "code",
   "execution_count": 21,
   "id": "094c87dc-dbcf-4da1-ae4e-278dd4196de4",
   "metadata": {},
   "outputs": [],
   "source": [
    "# Export the updated dataframe\n",
    "output_path = os.path.join(base_path, 'ords_prods_merge.pkl')\n",
    "ords_prods_merge.to_pickle(output_path)"
   ]
  },
  {
   "cell_type": "code",
   "execution_count": null,
   "id": "23accad1-c36a-4b4c-9098-46f143c6a324",
   "metadata": {},
   "outputs": [],
   "source": []
  }
 ],
 "metadata": {
  "kernelspec": {
   "display_name": "Python [conda env:base] *",
   "language": "python",
   "name": "conda-base-py"
  },
  "language_info": {
   "codemirror_mode": {
    "name": "ipython",
    "version": 3
   },
   "file_extension": ".py",
   "mimetype": "text/x-python",
   "name": "python",
   "nbconvert_exporter": "python",
   "pygments_lexer": "ipython3",
   "version": "3.12.7"
  }
 },
 "nbformat": 4,
 "nbformat_minor": 5
}
