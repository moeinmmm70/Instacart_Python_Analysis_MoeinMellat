{
 "cells": [
  {
   "cell_type": "markdown",
   "id": "11db7d84-2af5-4cdf-b191-46cc3fae9e91",
   "metadata": {},
   "source": [
    "### 🔹 Step 1: Setup & Imports"
   ]
  },
  {
   "cell_type": "code",
   "execution_count": 4,
   "id": "cae73d65-0135-451f-bdc4-6d5307071fc9",
   "metadata": {},
   "outputs": [
    {
     "data": {
      "text/html": [
       "<div>\n",
       "<style scoped>\n",
       "    .dataframe tbody tr th:only-of-type {\n",
       "        vertical-align: middle;\n",
       "    }\n",
       "\n",
       "    .dataframe tbody tr th {\n",
       "        vertical-align: top;\n",
       "    }\n",
       "\n",
       "    .dataframe thead th {\n",
       "        text-align: right;\n",
       "    }\n",
       "</style>\n",
       "<table border=\"1\" class=\"dataframe\">\n",
       "  <thead>\n",
       "    <tr style=\"text-align: right;\">\n",
       "      <th></th>\n",
       "      <th>order_id</th>\n",
       "      <th>user_id</th>\n",
       "      <th>order_number</th>\n",
       "      <th>orders_day_of_week</th>\n",
       "      <th>order_hour_of_day</th>\n",
       "      <th>days_since_prior_order</th>\n",
       "      <th>product_id</th>\n",
       "      <th>add_to_cart_order</th>\n",
       "      <th>reordered</th>\n",
       "      <th>_merge</th>\n",
       "      <th>product_name</th>\n",
       "      <th>aisle_id</th>\n",
       "      <th>department_id</th>\n",
       "      <th>prices</th>\n",
       "      <th>merge_flag</th>\n",
       "      <th>price_label</th>\n",
       "      <th>busiest_days</th>\n",
       "      <th>busiest_period_of_day</th>\n",
       "    </tr>\n",
       "  </thead>\n",
       "  <tbody>\n",
       "    <tr>\n",
       "      <th>0</th>\n",
       "      <td>2539329</td>\n",
       "      <td>1</td>\n",
       "      <td>1</td>\n",
       "      <td>2</td>\n",
       "      <td>8</td>\n",
       "      <td>0.0</td>\n",
       "      <td>196</td>\n",
       "      <td>1</td>\n",
       "      <td>0</td>\n",
       "      <td>both</td>\n",
       "      <td>Soda</td>\n",
       "      <td>77</td>\n",
       "      <td>7</td>\n",
       "      <td>9.0</td>\n",
       "      <td>both</td>\n",
       "      <td>Mid-range product</td>\n",
       "      <td>Regular days</td>\n",
       "      <td>Average orders</td>\n",
       "    </tr>\n",
       "    <tr>\n",
       "      <th>1</th>\n",
       "      <td>2539329</td>\n",
       "      <td>1</td>\n",
       "      <td>1</td>\n",
       "      <td>2</td>\n",
       "      <td>8</td>\n",
       "      <td>0.0</td>\n",
       "      <td>14084</td>\n",
       "      <td>2</td>\n",
       "      <td>0</td>\n",
       "      <td>both</td>\n",
       "      <td>Organic Unsweetened Vanilla Almond Milk</td>\n",
       "      <td>91</td>\n",
       "      <td>16</td>\n",
       "      <td>12.5</td>\n",
       "      <td>both</td>\n",
       "      <td>Mid-range product</td>\n",
       "      <td>Regular days</td>\n",
       "      <td>Average orders</td>\n",
       "    </tr>\n",
       "    <tr>\n",
       "      <th>2</th>\n",
       "      <td>2539329</td>\n",
       "      <td>1</td>\n",
       "      <td>1</td>\n",
       "      <td>2</td>\n",
       "      <td>8</td>\n",
       "      <td>0.0</td>\n",
       "      <td>12427</td>\n",
       "      <td>3</td>\n",
       "      <td>0</td>\n",
       "      <td>both</td>\n",
       "      <td>Original Beef Jerky</td>\n",
       "      <td>23</td>\n",
       "      <td>19</td>\n",
       "      <td>4.4</td>\n",
       "      <td>both</td>\n",
       "      <td>Low-range product</td>\n",
       "      <td>Regular days</td>\n",
       "      <td>Average orders</td>\n",
       "    </tr>\n",
       "    <tr>\n",
       "      <th>3</th>\n",
       "      <td>2539329</td>\n",
       "      <td>1</td>\n",
       "      <td>1</td>\n",
       "      <td>2</td>\n",
       "      <td>8</td>\n",
       "      <td>0.0</td>\n",
       "      <td>26088</td>\n",
       "      <td>4</td>\n",
       "      <td>0</td>\n",
       "      <td>both</td>\n",
       "      <td>Aged White Cheddar Popcorn</td>\n",
       "      <td>23</td>\n",
       "      <td>19</td>\n",
       "      <td>4.7</td>\n",
       "      <td>both</td>\n",
       "      <td>Low-range product</td>\n",
       "      <td>Regular days</td>\n",
       "      <td>Average orders</td>\n",
       "    </tr>\n",
       "    <tr>\n",
       "      <th>4</th>\n",
       "      <td>2539329</td>\n",
       "      <td>1</td>\n",
       "      <td>1</td>\n",
       "      <td>2</td>\n",
       "      <td>8</td>\n",
       "      <td>0.0</td>\n",
       "      <td>26405</td>\n",
       "      <td>5</td>\n",
       "      <td>0</td>\n",
       "      <td>both</td>\n",
       "      <td>XL Pick-A-Size Paper Towel Rolls</td>\n",
       "      <td>54</td>\n",
       "      <td>17</td>\n",
       "      <td>1.0</td>\n",
       "      <td>both</td>\n",
       "      <td>Low-range product</td>\n",
       "      <td>Regular days</td>\n",
       "      <td>Average orders</td>\n",
       "    </tr>\n",
       "  </tbody>\n",
       "</table>\n",
       "</div>"
      ],
      "text/plain": [
       "   order_id  user_id  order_number  orders_day_of_week  order_hour_of_day  \\\n",
       "0   2539329        1             1                   2                  8   \n",
       "1   2539329        1             1                   2                  8   \n",
       "2   2539329        1             1                   2                  8   \n",
       "3   2539329        1             1                   2                  8   \n",
       "4   2539329        1             1                   2                  8   \n",
       "\n",
       "   days_since_prior_order  product_id  add_to_cart_order  reordered _merge  \\\n",
       "0                     0.0         196                  1          0   both   \n",
       "1                     0.0       14084                  2          0   both   \n",
       "2                     0.0       12427                  3          0   both   \n",
       "3                     0.0       26088                  4          0   both   \n",
       "4                     0.0       26405                  5          0   both   \n",
       "\n",
       "                              product_name  aisle_id  department_id  prices  \\\n",
       "0                                     Soda        77              7     9.0   \n",
       "1  Organic Unsweetened Vanilla Almond Milk        91             16    12.5   \n",
       "2                      Original Beef Jerky        23             19     4.4   \n",
       "3               Aged White Cheddar Popcorn        23             19     4.7   \n",
       "4         XL Pick-A-Size Paper Towel Rolls        54             17     1.0   \n",
       "\n",
       "  merge_flag        price_label  busiest_days busiest_period_of_day  \n",
       "0       both  Mid-range product  Regular days        Average orders  \n",
       "1       both  Mid-range product  Regular days        Average orders  \n",
       "2       both  Low-range product  Regular days        Average orders  \n",
       "3       both  Low-range product  Regular days        Average orders  \n",
       "4       both  Low-range product  Regular days        Average orders  "
      ]
     },
     "execution_count": 4,
     "metadata": {},
     "output_type": "execute_result"
    }
   ],
   "source": [
    "# Imports\n",
    "import pandas as pd\n",
    "import numpy as np\n",
    "import os\n",
    "\n",
    "# Define folder paths\n",
    "base_path = r'C:\\Users\\moein\\anaconda3\\4 - Python Fundamentals\\02 Data'\n",
    "prepared_path = os.path.join(base_path, 'Prepared Data')\n",
    "\n",
    "# Load the previously merged dataframe\n",
    "file_path_2 = os.path.join(prepared_path, 'ords_prods_merge.pkl')\n",
    "ords_prods_merge = pd.read_pickle(file_path_2)\n",
    "\n",
    "# Check shape and structure\n",
    "ords_prods_merge.shape\n",
    "ords_prods_merge.head()"
   ]
  },
  {
   "cell_type": "markdown",
   "id": "a6c89996-97e6-44e4-a763-b72e5ab0322a",
   "metadata": {},
   "source": [
    "### 🔹 Step 2: Aggregated Mean of “order_number” by “department_id”"
   ]
  },
  {
   "cell_type": "code",
   "execution_count": 11,
   "id": "802c31da-5ada-41a9-a6ff-77a4bc1aea30",
   "metadata": {},
   "outputs": [
    {
     "name": "stdout",
     "output_type": "stream",
     "text": [
      "department_id\n",
      "1     15.457687\n",
      "2     17.277920\n",
      "3     17.179756\n",
      "4     17.811403\n",
      "5     15.213779\n",
      "6     16.439806\n",
      "7     17.225773\n",
      "8     15.340520\n",
      "9     15.895474\n",
      "10    20.197148\n",
      "11    16.170828\n",
      "12    15.887622\n",
      "13    16.583304\n",
      "14    16.757377\n",
      "15    16.165037\n",
      "16    17.663250\n",
      "17    15.694469\n",
      "18    19.310397\n",
      "19    17.177343\n",
      "20    16.473447\n",
      "21    22.902379\n",
      "Name: order_number, dtype: float64\n"
     ]
    }
   ],
   "source": [
    "# Mean order_number grouped by department_id (entire dataset)\n",
    "dept_mean_orders = ords_prods_merge.groupby('department_id')['order_number'].mean()\n",
    "print(dept_mean_orders)"
   ]
  },
  {
   "cell_type": "markdown",
   "id": "1a6fc5a6-d154-4daa-a31a-30bcb22be59b",
   "metadata": {},
   "source": [
    "The values presented above represent the mean order number per department for the entire dataset. Compared to the previous analysis using the 1-million-row subset, we can make the following observations:\n",
    "\n",
    "- The mean values are generally higher in the full dataset. This suggests that when we include more data (i.e., more users and more orders), the average number of orders per department increases slightly.\n",
    "\n",
    "- The rank order of departments remains mostly consistent, indicating that popular departments (like department 4 – likely \"produce\") still lead in number of orders.\n",
    "\n",
    "- Departments like 21 and 10 still show significantly higher average order numbers, possibly due to specialized or recurring products (like personal care or baby products).\n",
    "\n",
    "This illustrates why working with full data is often necessary to get a more representative picture and avoid under- or over-estimating certain metrics.\n"
   ]
  },
  {
   "cell_type": "markdown",
   "id": "f4e67316-b2c6-4a5f-b5f6-94bcc6b0969c",
   "metadata": {},
   "source": [
    "### 🔹 Step 3: Create Loyalty Flag Using transform() and loc()"
   ]
  },
  {
   "cell_type": "code",
   "execution_count": 6,
   "id": "5bc13145-0568-4b3f-8546-9268c6ba852e",
   "metadata": {},
   "outputs": [
    {
     "name": "stderr",
     "output_type": "stream",
     "text": [
      "C:\\Users\\moein\\AppData\\Local\\Temp\\ipykernel_16376\\66720588.py:2: FutureWarning: The provided callable <function max at 0x0000025ED544C4A0> is currently using SeriesGroupBy.max. In a future version of pandas, the provided callable will be used directly. To keep current behavior pass the string \"max\" instead.\n",
      "  ords_prods_merge['max_order'] = ords_prods_merge.groupby('user_id')['order_number'].transform(np.max)\n"
     ]
    },
    {
     "data": {
      "text/plain": [
       "loyalty_flag\n",
       "Regular customer    15891077\n",
       "Loyal customer      10293737\n",
       "New customer         6249398\n",
       "Name: count, dtype: int64"
      ]
     },
     "execution_count": 6,
     "metadata": {},
     "output_type": "execute_result"
    }
   ],
   "source": [
    "# Create max_order column for each user\n",
    "ords_prods_merge['max_order'] = ords_prods_merge.groupby('user_id')['order_number'].transform(np.max)\n",
    "\n",
    "# Assign loyalty flag based on max_order\n",
    "ords_prods_merge.loc[ords_prods_merge['max_order'] > 40, 'loyalty_flag'] = 'Loyal customer'\n",
    "ords_prods_merge.loc[(ords_prods_merge['max_order'] <= 40) & (ords_prods_merge['max_order'] > 10), 'loyalty_flag'] = 'Regular customer'\n",
    "ords_prods_merge.loc[ords_prods_merge['max_order'] <= 10, 'loyalty_flag'] = 'New customer'\n",
    "\n",
    "# Check frequency\n",
    "ords_prods_merge['loyalty_flag'].value_counts()"
   ]
  },
  {
   "cell_type": "markdown",
   "id": "43d7333e-60fd-4a3b-863f-e04fabb8336d",
   "metadata": {},
   "source": [
    "### 🔹 Step 4: Analyze Spending by Loyalty Flag"
   ]
  },
  {
   "cell_type": "code",
   "execution_count": 7,
   "id": "0fe79949-2e47-4e58-a784-ca8471b709e5",
   "metadata": {},
   "outputs": [
    {
     "name": "stdout",
     "output_type": "stream",
     "text": [
      "                       count       mean         std  min  25%  50%   75%  \\\n",
      "loyalty_flag                                                               \n",
      "Loyal customer    10293737.0  10.388747  327.864108  1.0  4.2  7.4  11.2   \n",
      "New customer       6249398.0  13.294370  597.301692  1.0  4.2  7.4  11.3   \n",
      "Regular customer  15891077.0  12.496203  539.478009  1.0  4.2  7.4  11.3   \n",
      "\n",
      "                      max  \n",
      "loyalty_flag               \n",
      "Loyal customer    99999.0  \n",
      "New customer      99999.0  \n",
      "Regular customer  99999.0  \n"
     ]
    }
   ],
   "source": [
    "# Basic statistics of prices by loyalty category\n",
    "loyalty_price_stats = ords_prods_merge.groupby('loyalty_flag')['prices'].describe()\n",
    "print(loyalty_price_stats)"
   ]
  },
  {
   "cell_type": "markdown",
   "id": "81cb3111-a7c5-4e64-83e6-8f83d01e9720",
   "metadata": {},
   "source": [
    "The descriptive statistics above compare the product prices purchased by different customer loyalty segments.\n",
    "\n",
    "Key Insights:\n",
    "\n",
    "- Loyal customers have the lowest average price per item at €10.39, compared to Regular customers (€12.50) and New customers (€13.29).\n",
    "\n",
    "- The median price (50%) is identical across all segments (€7.4), indicating that while the typical purchase is similar, the higher averages for New and Regular customers may be due to occasional more expensive purchases (right-skewed distributions).\n",
    "\n",
    "- ll groups share the same minimum (€1.0) and maximum (€99,999.0) values, which suggests extreme outliers exist in all segments. However, the standard deviation increases notably from Loyal → Regular → New, indicating more price variability among new customers.\n",
    "\n",
    "✔️ Loyal customers tend to buy slightly cheaper items, possibly reflecting regular, habitual purchases of essentials.\n",
    "\n",
    "✔️ New customers spend more on average, which could be due to bulk buying, exploratory purchases, or one-off high-value items.\n",
    "\n",
    "These insights could help the marketing team tailor campaigns—for example, promote **higher-value products to loyal customers** or **offer discounts to new users to encourage continued use**."
   ]
  },
  {
   "cell_type": "markdown",
   "id": "084e0805-b07b-45ae-812e-bea1f766279d",
   "metadata": {},
   "source": [
    "### 🔹 Step 5: Create Spending Flag Based on Average Price per User"
   ]
  },
  {
   "cell_type": "code",
   "execution_count": 8,
   "id": "451c18f8-4f1a-4a1a-b092-9913b6e71aa0",
   "metadata": {},
   "outputs": [
    {
     "data": {
      "text/plain": [
       "spending_flag\n",
       "Low spender     31798751\n",
       "High spender      635461\n",
       "Name: count, dtype: int64"
      ]
     },
     "execution_count": 8,
     "metadata": {},
     "output_type": "execute_result"
    }
   ],
   "source": [
    "# Create mean price per user\n",
    "ords_prods_merge['avg_price'] = ords_prods_merge.groupby('user_id')['prices'].transform('mean')\n",
    "\n",
    "# Create spending_flag column\n",
    "ords_prods_merge.loc[ords_prods_merge['avg_price'] < 10, 'spending_flag'] = 'Low spender'\n",
    "ords_prods_merge.loc[ords_prods_merge['avg_price'] >= 10, 'spending_flag'] = 'High spender'\n",
    "\n",
    "# Optional: Check results\n",
    "ords_prods_merge['spending_flag'].value_counts()"
   ]
  },
  {
   "cell_type": "markdown",
   "id": "f488c8c6-47be-4b34-adea-1566462a0c5b",
   "metadata": {},
   "source": [
    "### 🔹 Step 6: Create Order Frequency Flag"
   ]
  },
  {
   "cell_type": "code",
   "execution_count": 9,
   "id": "f23fecbf-6fb9-40a2-affb-88808d0f07ee",
   "metadata": {},
   "outputs": [
    {
     "data": {
      "text/plain": [
       "frequency_flag\n",
       "Frequent customer        22814871\n",
       "Regular customer          6929354\n",
       "Non-frequent customer     2689987\n",
       "Name: count, dtype: int64"
      ]
     },
     "execution_count": 9,
     "metadata": {},
     "output_type": "execute_result"
    }
   ],
   "source": [
    "# Create median days since prior order per user\n",
    "ords_prods_merge['median_days_since_prior'] = ords_prods_merge.groupby('user_id')['days_since_prior_order'].transform('median')\n",
    "\n",
    "# Create order frequency flag\n",
    "ords_prods_merge.loc[ords_prods_merge['median_days_since_prior'] > 20, 'frequency_flag'] = 'Non-frequent customer'\n",
    "ords_prods_merge.loc[(ords_prods_merge['median_days_since_prior'] > 10) & (ords_prods_merge['median_days_since_prior'] <= 20), 'frequency_flag'] = 'Regular customer'\n",
    "ords_prods_merge.loc[ords_prods_merge['median_days_since_prior'] <= 10, 'frequency_flag'] = 'Frequent customer'\n",
    "\n",
    "# Check value counts\n",
    "ords_prods_merge['frequency_flag'].value_counts()"
   ]
  },
  {
   "cell_type": "markdown",
   "id": "a73f4c6c-dfbb-4c38-9f6f-815de1242cb1",
   "metadata": {},
   "source": [
    "### 🔹 Step 7: Export Final Dataframe"
   ]
  },
  {
   "cell_type": "code",
   "execution_count": 10,
   "id": "6b700b4c-1de5-45b4-bfdc-404eb3b1466a",
   "metadata": {},
   "outputs": [],
   "source": [
    "# Export final dataframe with all new flags\n",
    "output_path = r\"C:\\Users\\moein\\anaconda3\\4 - Python Fundamentals\\02 Data\\Prepared Data\\ords_prods_merge_enriched.pkl\"\n",
    "ords_prods_merge.to_pickle(output_path)"
   ]
  },
  {
   "cell_type": "code",
   "execution_count": null,
   "id": "110ab708-fe25-4f51-9297-39a276d68f9b",
   "metadata": {},
   "outputs": [],
   "source": []
  }
 ],
 "metadata": {
  "kernelspec": {
   "display_name": "Python [conda env:base] *",
   "language": "python",
   "name": "conda-base-py"
  },
  "language_info": {
   "codemirror_mode": {
    "name": "ipython",
    "version": 3
   },
   "file_extension": ".py",
   "mimetype": "text/x-python",
   "name": "python",
   "nbconvert_exporter": "python",
   "pygments_lexer": "ipython3",
   "version": "3.12.7"
  }
 },
 "nbformat": 4,
 "nbformat_minor": 5
}
