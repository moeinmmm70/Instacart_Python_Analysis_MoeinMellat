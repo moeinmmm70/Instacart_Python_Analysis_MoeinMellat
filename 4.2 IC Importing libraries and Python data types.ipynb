{
 "cells": [
  {
   "cell_type": "markdown",
   "id": "84a6c2a6-2cc8-4826-8845-965a2d9cbd63",
   "metadata": {},
   "source": [
    "# 01. Importing Libraries"
   ]
  },
  {
   "cell_type": "code",
   "execution_count": null,
   "id": "6ea55f20-bd28-4262-9e73-3e159956a1a9",
   "metadata": {},
   "outputs": [],
   "source": [
    "# Import libraries\n",
    "import pandas as pd\n",
    "import numpy as np\n",
    "import os"
   ]
  },
  {
   "cell_type": "markdown",
   "id": "c3c5295e-6692-49e0-b1a6-71d0d5c53d3f",
   "metadata": {},
   "source": [
    "# 02. Python Data Types"
   ]
  },
  {
   "cell_type": "code",
   "execution_count": 3,
   "id": "2f1e6465-b395-429e-b0c6-23f55265e6bd",
   "metadata": {},
   "outputs": [
    {
     "name": "stdout",
     "output_type": "stream",
     "text": [
      "100\n",
      "100\n",
      "100\n"
     ]
    }
   ],
   "source": [
    "# Reach 100 Using Numeric Variables (3 Ways)\n",
    "a = 60\n",
    "b = 40\n",
    "print(a + b)\n",
    "\n",
    "x = 200\n",
    "y = 100\n",
    "print(x - y)\n",
    "\n",
    "m = 50\n",
    "n = 25\n",
    "o = 25\n",
    "print(m + n + o)"
   ]
  },
  {
   "cell_type": "code",
   "execution_count": 4,
   "id": "4e4ef550-ba4f-4cab-9bdb-98da02c23a55",
   "metadata": {},
   "outputs": [
    {
     "name": "stdout",
     "output_type": "stream",
     "text": [
      "2.75\n"
     ]
    }
   ],
   "source": [
    "# Floating-Point Division\n",
    "\n",
    "f1 = 5.5\n",
    "f2 = 2.0\n",
    "print(f1 / f2)"
   ]
  },
  {
   "cell_type": "code",
   "execution_count": 5,
   "id": "bf3ba58b-9e12-4cbf-ac1d-37283adc4118",
   "metadata": {},
   "outputs": [
    {
     "name": "stdout",
     "output_type": "stream",
     "text": [
      "Python\n"
     ]
    }
   ],
   "source": [
    "# Concatenate Strings to Make a Word\n",
    "\n",
    "w1 = 'Py'\n",
    "w2 = 'thon'\n",
    "print(w1 + w2)"
   ]
  },
  {
   "cell_type": "code",
   "execution_count": 6,
   "id": "2d22b269-8dde-48a7-9b4d-6b1a3324ba8d",
   "metadata": {},
   "outputs": [
    {
     "name": "stdout",
     "output_type": "stream",
     "text": [
      "Data analysis is fun.\n",
      "Python makes it easier.\n"
     ]
    }
   ],
   "source": [
    "# Concatenate Strings to Make Sentences\n",
    "\n",
    "s1 = 'Data '\n",
    "s2 = 'analysis is fun.'\n",
    "print(s1 + s2)\n",
    "\n",
    "s3 = 'Python '\n",
    "s4 = 'makes it easier.'\n",
    "print(s3 + s4)"
   ]
  },
  {
   "cell_type": "code",
   "execution_count": 8,
   "id": "d9be08c5-c2b8-4625-bea3-2a79546ff6fb",
   "metadata": {},
   "outputs": [
    {
     "name": "stdout",
     "output_type": "stream",
     "text": [
      "Python! Python! Python! Python! Python! Python! Python! Python! Python! Python! Python! Python! Python! Python! Python! Python! Python! Python! Python! Python! Python! Python! Python! Python! Python! Python! Python! Python! Python! Python! Python! Python! Python! Python! Python! Python! Python! Python! Python! Python! Python! Python! Python! Python! Python! Python! Python! Python! Python! Python! Python! Python! Python! Python! Python! Python! Python! Python! Python! Python! Python! Python! Python! Python! Python! Python! Python! Python! Python! Python! Python! Python! Python! Python! Python! Python! Python! Python! Python! Python! Python! Python! Python! Python! Python! Python! Python! Python! Python! Python! Python! Python! Python! Python! Python! Python! Python! Python! Python! Python! \n"
     ]
    }
   ],
   "source": [
    "# Repeat a String 100 Times\n",
    "\n",
    "print('Python! ' * 100)\n"
   ]
  }
 ],
 "metadata": {
  "kernelspec": {
   "display_name": "Python [conda env:base] *",
   "language": "python",
   "name": "conda-base-py"
  },
  "language_info": {
   "codemirror_mode": {
    "name": "ipython",
    "version": 3
   },
   "file_extension": ".py",
   "mimetype": "text/x-python",
   "name": "python",
   "nbconvert_exporter": "python",
   "pygments_lexer": "ipython3",
   "version": "3.12.7"
  }
 },
 "nbformat": 4,
 "nbformat_minor": 5
}
