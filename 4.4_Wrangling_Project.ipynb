{
 "cells": [
  {
   "cell_type": "code",
   "execution_count": 1,
   "id": "b35b0264-20e1-45dd-9df5-50613f90f154",
   "metadata": {},
   "outputs": [],
   "source": [
    "# Imports\n",
    "import pandas as pd\n",
    "import numpy as np\n",
    "import os\n",
    "\n",
    "# Set path\n",
    "path = r'C:\\Users\\moein\\anaconda3\\04-2025 Achievement 4 - Python Fundamentals\\02 Data\\Original Data'"
   ]
  },
  {
   "cell_type": "code",
   "execution_count": 3,
   "id": "f60d373d-42b7-4287-9176-d5a1cf480f18",
   "metadata": {},
   "outputs": [
    {
     "data": {
      "text/html": [
       "<div>\n",
       "<style scoped>\n",
       "    .dataframe tbody tr th:only-of-type {\n",
       "        vertical-align: middle;\n",
       "    }\n",
       "\n",
       "    .dataframe tbody tr th {\n",
       "        vertical-align: top;\n",
       "    }\n",
       "\n",
       "    .dataframe thead th {\n",
       "        text-align: right;\n",
       "    }\n",
       "</style>\n",
       "<table border=\"1\" class=\"dataframe\">\n",
       "  <thead>\n",
       "    <tr style=\"text-align: right;\">\n",
       "      <th></th>\n",
       "      <th>order_id</th>\n",
       "      <th>user_id</th>\n",
       "      <th>order_number</th>\n",
       "      <th>order_dow</th>\n",
       "      <th>order_hour_of_day</th>\n",
       "      <th>days_since_prior_order</th>\n",
       "    </tr>\n",
       "  </thead>\n",
       "  <tbody>\n",
       "    <tr>\n",
       "      <th>0</th>\n",
       "      <td>2539329</td>\n",
       "      <td>1</td>\n",
       "      <td>1</td>\n",
       "      <td>2</td>\n",
       "      <td>8</td>\n",
       "      <td>NaN</td>\n",
       "    </tr>\n",
       "    <tr>\n",
       "      <th>1</th>\n",
       "      <td>2398795</td>\n",
       "      <td>1</td>\n",
       "      <td>2</td>\n",
       "      <td>3</td>\n",
       "      <td>7</td>\n",
       "      <td>15.0</td>\n",
       "    </tr>\n",
       "    <tr>\n",
       "      <th>2</th>\n",
       "      <td>473747</td>\n",
       "      <td>1</td>\n",
       "      <td>3</td>\n",
       "      <td>3</td>\n",
       "      <td>12</td>\n",
       "      <td>21.0</td>\n",
       "    </tr>\n",
       "    <tr>\n",
       "      <th>3</th>\n",
       "      <td>2254736</td>\n",
       "      <td>1</td>\n",
       "      <td>4</td>\n",
       "      <td>4</td>\n",
       "      <td>7</td>\n",
       "      <td>29.0</td>\n",
       "    </tr>\n",
       "    <tr>\n",
       "      <th>4</th>\n",
       "      <td>431534</td>\n",
       "      <td>1</td>\n",
       "      <td>5</td>\n",
       "      <td>4</td>\n",
       "      <td>15</td>\n",
       "      <td>28.0</td>\n",
       "    </tr>\n",
       "  </tbody>\n",
       "</table>\n",
       "</div>"
      ],
      "text/plain": [
       "   order_id  user_id  order_number  order_dow  order_hour_of_day  \\\n",
       "0   2539329        1             1          2                  8   \n",
       "1   2398795        1             2          3                  7   \n",
       "2    473747        1             3          3                 12   \n",
       "3   2254736        1             4          4                  7   \n",
       "4    431534        1             5          4                 15   \n",
       "\n",
       "   days_since_prior_order  \n",
       "0                     NaN  \n",
       "1                    15.0  \n",
       "2                    21.0  \n",
       "3                    29.0  \n",
       "4                    28.0  "
      ]
     },
     "execution_count": 3,
     "metadata": {},
     "output_type": "execute_result"
    }
   ],
   "source": [
    "# Import data (excluding eval_set)\n",
    "\n",
    "# Define which columns to import (omit 'eval_set')\n",
    "vars_list = ['order_id', 'user_id', 'order_number', 'order_dow', 'order_hour_of_day', 'days_since_prior_order']\n",
    "\n",
    "# Load orders.csv\n",
    "df_ords = pd.read_csv(os.path.join(path, 'orders.csv'), usecols=vars_list)\n",
    "df_ords.head()"
   ]
  },
  {
   "cell_type": "code",
   "execution_count": 5,
   "id": "e681c85f-8d39-4a19-a8da-f71e80ec2cf6",
   "metadata": {},
   "outputs": [
    {
     "data": {
      "text/plain": [
       "(49693, 5)"
      ]
     },
     "execution_count": 5,
     "metadata": {},
     "output_type": "execute_result"
    }
   ],
   "source": [
    "# Import products.csv as df_prods\n",
    "\n",
    "df_prods = pd.read_csv(os.path.join(path, 'products.csv'))\n",
    "df_prods.head(20)\n",
    "df_prods.tail(35)\n",
    "df_prods.columns\n",
    "df_prods.shape"
   ]
  },
  {
   "cell_type": "code",
   "execution_count": 7,
   "id": "b266ec04-6c48-4b31-8924-7ec5cf97f8bc",
   "metadata": {},
   "outputs": [
    {
     "data": {
      "text/plain": [
       "134"
      ]
     },
     "execution_count": 7,
     "metadata": {},
     "output_type": "execute_result"
    }
   ],
   "source": [
    "# Analyze and wrangle\n",
    "\n",
    "df_prods['aisle_id'].max()"
   ]
  },
  {
   "cell_type": "code",
   "execution_count": 8,
   "id": "3e493a51-426c-419c-a53b-eff233bdcaac",
   "metadata": {},
   "outputs": [
    {
     "data": {
      "text/plain": [
       "dtype('int64')"
      ]
     },
     "execution_count": 8,
     "metadata": {},
     "output_type": "execute_result"
    }
   ],
   "source": [
    "df_prods['department_id'].dtype"
   ]
  },
  {
   "cell_type": "markdown",
   "id": "e6a3e247-6783-443d-916e-c483df4484a1",
   "metadata": {},
   "source": [
    "### Wrangling Tasks"
   ]
  },
  {
   "cell_type": "code",
   "execution_count": 9,
   "id": "98762171-2296-4829-b8f4-d66723fa5af8",
   "metadata": {},
   "outputs": [],
   "source": [
    "# Change an identifier column to string\n",
    "\n",
    "df_ords['order_id'] = df_ords['order_id'].astype('str')"
   ]
  },
  {
   "cell_type": "code",
   "execution_count": 10,
   "id": "d109293c-fc81-4fef-8c70-3f8b22035ccd",
   "metadata": {},
   "outputs": [],
   "source": [
    "# Rename order_dow to orders_day_of_week\n",
    "\n",
    "df_ords.rename(columns={'order_dow': 'orders_day_of_week'}, inplace=True)"
   ]
  },
  {
   "cell_type": "code",
   "execution_count": 11,
   "id": "25a340ad-0bd3-4de5-9c88-3da08a24f7cf",
   "metadata": {},
   "outputs": [
    {
     "data": {
      "text/plain": [
       "order_hour_of_day\n",
       "0      22758\n",
       "1      12398\n",
       "2       7539\n",
       "3       5474\n",
       "4       5527\n",
       "5       9569\n",
       "6      30529\n",
       "7      91868\n",
       "8     178201\n",
       "9     257812\n",
       "10    288418\n",
       "11    284728\n",
       "12    272841\n",
       "13    277999\n",
       "14    283042\n",
       "15    283639\n",
       "16    272553\n",
       "17    228795\n",
       "18    182912\n",
       "19    140569\n",
       "20    104292\n",
       "21     78109\n",
       "22     61468\n",
       "23     40043\n",
       "Name: count, dtype: int64"
      ]
     },
     "execution_count": 11,
     "metadata": {},
     "output_type": "execute_result"
    }
   ],
   "source": [
    "# Find busiest hour\n",
    "\n",
    "df_ords['order_hour_of_day'].value_counts().sort_index()"
   ]
  },
  {
   "cell_type": "code",
   "execution_count": 13,
   "id": "d5d6eb74-380e-4af6-82f6-5d080862e0da",
   "metadata": {},
   "outputs": [
    {
     "data": {
      "text/plain": [
       "{'department': 'produce'}"
      ]
     },
     "execution_count": 13,
     "metadata": {},
     "output_type": "execute_result"
    }
   ],
   "source": [
    "# Use data dictionary to find meaning of department_id = 4\n",
    "\n",
    "df_dep = pd.read_csv(os.path.join(path, 'departments.csv'))\n",
    "df_dep_t = df_dep.T\n",
    "df_dep_t_new = df_dep_t[1:]\n",
    "df_dep_t_new.columns = df_dep_t.iloc[0]\n",
    "df_dep_t_new\n",
    "data_dict = df_dep_t_new.to_dict('index')\n",
    "data_dict.get('4')  # Or df_dep[df_dep['department_id'] == 4]"
   ]
  },
  {
   "cell_type": "code",
   "execution_count": 25,
   "id": "7166dfed-5b2a-4456-9727-80b727905799",
   "metadata": {},
   "outputs": [
    {
     "data": {
      "text/plain": [
       "6264"
      ]
     },
     "execution_count": 25,
     "metadata": {},
     "output_type": "execute_result"
    }
   ],
   "source": [
    "# Subset: only snacks (id 19)\n",
    "\n",
    "df_snacks = df_prods[df_prods['department_id'] == 19]\n",
    "df_snacks.shape[0]  # number of rows"
   ]
  },
  {
   "cell_type": "code",
   "execution_count": 26,
   "id": "e35a4bb0-90e7-4c97-89a3-f1b533893dfc",
   "metadata": {},
   "outputs": [
    {
     "data": {
      "text/plain": [
       "7650"
      ]
     },
     "execution_count": 26,
     "metadata": {},
     "output_type": "execute_result"
    }
   ],
   "source": [
    "# Subset: party items (alcohol=5, deli=20, beverages=7, meat/seafood=12)\n",
    "\n",
    "df_party = df_prods[df_prods['department_id'].isin([5, 7, 12, 20])]\n",
    "df_party.shape[0]  # number of rows"
   ]
  },
  {
   "cell_type": "code",
   "execution_count": 27,
   "id": "f47578f3-424f-4403-9986-140b1e1d3902",
   "metadata": {},
   "outputs": [
    {
     "data": {
      "text/html": [
       "<div>\n",
       "<style scoped>\n",
       "    .dataframe tbody tr th:only-of-type {\n",
       "        vertical-align: middle;\n",
       "    }\n",
       "\n",
       "    .dataframe tbody tr th {\n",
       "        vertical-align: top;\n",
       "    }\n",
       "\n",
       "    .dataframe thead th {\n",
       "        text-align: right;\n",
       "    }\n",
       "</style>\n",
       "<table border=\"1\" class=\"dataframe\">\n",
       "  <thead>\n",
       "    <tr style=\"text-align: right;\">\n",
       "      <th></th>\n",
       "      <th>user_id</th>\n",
       "      <th>order_number</th>\n",
       "      <th>orders_day_of_week</th>\n",
       "      <th>order_hour_of_day</th>\n",
       "      <th>days_since_prior_order</th>\n",
       "    </tr>\n",
       "  </thead>\n",
       "  <tbody>\n",
       "    <tr>\n",
       "      <th>count</th>\n",
       "      <td>11.0</td>\n",
       "      <td>11.000000</td>\n",
       "      <td>11.000000</td>\n",
       "      <td>11.000000</td>\n",
       "      <td>10.000000</td>\n",
       "    </tr>\n",
       "    <tr>\n",
       "      <th>mean</th>\n",
       "      <td>1.0</td>\n",
       "      <td>6.000000</td>\n",
       "      <td>2.636364</td>\n",
       "      <td>10.090909</td>\n",
       "      <td>19.000000</td>\n",
       "    </tr>\n",
       "    <tr>\n",
       "      <th>std</th>\n",
       "      <td>0.0</td>\n",
       "      <td>3.316625</td>\n",
       "      <td>1.286291</td>\n",
       "      <td>3.477198</td>\n",
       "      <td>9.030811</td>\n",
       "    </tr>\n",
       "    <tr>\n",
       "      <th>min</th>\n",
       "      <td>1.0</td>\n",
       "      <td>1.000000</td>\n",
       "      <td>1.000000</td>\n",
       "      <td>7.000000</td>\n",
       "      <td>0.000000</td>\n",
       "    </tr>\n",
       "    <tr>\n",
       "      <th>25%</th>\n",
       "      <td>1.0</td>\n",
       "      <td>3.500000</td>\n",
       "      <td>1.500000</td>\n",
       "      <td>7.500000</td>\n",
       "      <td>14.250000</td>\n",
       "    </tr>\n",
       "    <tr>\n",
       "      <th>50%</th>\n",
       "      <td>1.0</td>\n",
       "      <td>6.000000</td>\n",
       "      <td>3.000000</td>\n",
       "      <td>8.000000</td>\n",
       "      <td>19.500000</td>\n",
       "    </tr>\n",
       "    <tr>\n",
       "      <th>75%</th>\n",
       "      <td>1.0</td>\n",
       "      <td>8.500000</td>\n",
       "      <td>4.000000</td>\n",
       "      <td>13.000000</td>\n",
       "      <td>26.250000</td>\n",
       "    </tr>\n",
       "    <tr>\n",
       "      <th>max</th>\n",
       "      <td>1.0</td>\n",
       "      <td>11.000000</td>\n",
       "      <td>4.000000</td>\n",
       "      <td>16.000000</td>\n",
       "      <td>30.000000</td>\n",
       "    </tr>\n",
       "  </tbody>\n",
       "</table>\n",
       "</div>"
      ],
      "text/plain": [
       "       user_id  order_number  orders_day_of_week  order_hour_of_day  \\\n",
       "count     11.0     11.000000           11.000000          11.000000   \n",
       "mean       1.0      6.000000            2.636364          10.090909   \n",
       "std        0.0      3.316625            1.286291           3.477198   \n",
       "min        1.0      1.000000            1.000000           7.000000   \n",
       "25%        1.0      3.500000            1.500000           7.500000   \n",
       "50%        1.0      6.000000            3.000000           8.000000   \n",
       "75%        1.0      8.500000            4.000000          13.000000   \n",
       "max        1.0     11.000000            4.000000          16.000000   \n",
       "\n",
       "       days_since_prior_order  \n",
       "count               10.000000  \n",
       "mean                19.000000  \n",
       "std                  9.030811  \n",
       "min                  0.000000  \n",
       "25%                 14.250000  \n",
       "50%                 19.500000  \n",
       "75%                 26.250000  \n",
       "max                 30.000000  "
      ]
     },
     "execution_count": 27,
     "metadata": {},
     "output_type": "execute_result"
    }
   ],
   "source": [
    "# Extract user_id = 1 info\n",
    "\n",
    "user1_data = df_ords[df_ords['user_id'] == 1]\n",
    "\n",
    "# Details of this customer's behavior\n",
    "user1_data.describe()"
   ]
  },
  {
   "cell_type": "code",
   "execution_count": 23,
   "id": "18682538-ddba-4eaa-a3c3-440a5d8ad982",
   "metadata": {},
   "outputs": [],
   "source": [
    "# Export orders dataframe\n",
    "df_ords.to_csv(os.path.join(path.replace('Original Data', 'Prepared Data'), 'orders_wrangled.csv'), index=False)\n",
    "\n",
    "# Export departments dictionary as CSV\n",
    "df_dep_t_new.to_csv(os.path.join(path.replace('Original Data', 'Prepared Data'), 'departments_wrangled.csv'), index=False)"
   ]
  }
 ],
 "metadata": {
  "kernelspec": {
   "display_name": "Python [conda env:base] *",
   "language": "python",
   "name": "conda-base-py"
  },
  "language_info": {
   "codemirror_mode": {
    "name": "ipython",
    "version": 3
   },
   "file_extension": ".py",
   "mimetype": "text/x-python",
   "name": "python",
   "nbconvert_exporter": "python",
   "pygments_lexer": "ipython3",
   "version": "3.12.7"
  }
 },
 "nbformat": 4,
 "nbformat_minor": 5
}
