{
 "cells": [
  {
   "cell_type": "markdown",
   "id": "1e1e7018-3add-4d53-a1db-58ab197338bc",
   "metadata": {},
   "source": [
    "## Merge Orders with Products Ordered"
   ]
  },
  {
   "cell_type": "markdown",
   "id": "ceab7909-ddc3-4be0-b00a-72157037750a",
   "metadata": {},
   "source": [
    "### 🔹 Step 1: Setup & Imports"
   ]
  },
  {
   "cell_type": "code",
   "execution_count": 1,
   "id": "495de047-ec81-46e9-915d-e1f6086f91ee",
   "metadata": {},
   "outputs": [],
   "source": [
    "# Imports\n",
    "import pandas as pd\n",
    "import numpy as np\n",
    "import os\n",
    "\n",
    "# Define folder paths\n",
    "base_path = r'C:\\Users\\moein\\anaconda3\\4 - Python Fundamentals\\02 Data'\n",
    "prepared_path = os.path.join(base_path, 'Prepared Data')\n",
    "original_path = os.path.join(base_path, 'Original Data')"
   ]
  },
  {
   "cell_type": "markdown",
   "id": "1d5933c9-c5b0-4abf-b1fa-7a60cec8efce",
   "metadata": {},
   "source": [
    "### 🔹 Step 2: Load Combined Orders and Products"
   ]
  },
  {
   "cell_type": "code",
   "execution_count": 3,
   "id": "4245a687-7fcb-4fae-b5c4-cdef47470f75",
   "metadata": {},
   "outputs": [],
   "source": [
    "df_combined = pd.read_pickle(os.path.join(prepared_path, 'orders_products_combined.pkl'))\n",
    "df_prods = pd.read_csv(os.path.join(prepared_path, 'products_checked.csv'))"
   ]
  },
  {
   "cell_type": "markdown",
   "id": "8269bd08-25df-4755-8b17-dcc452a91a65",
   "metadata": {},
   "source": [
    "### 🔹 Step 3: Check Shapes"
   ]
  },
  {
   "cell_type": "code",
   "execution_count": 4,
   "id": "4f8a5031-4c77-4f0e-b831-7899a0b76961",
   "metadata": {},
   "outputs": [
    {
     "name": "stdout",
     "output_type": "stream",
     "text": [
      "Combined orders shape: (32434489, 10)\n",
      "Products shape: (49693, 5)\n"
     ]
    }
   ],
   "source": [
    "print(\"Combined orders shape:\", df_combined.shape)\n",
    "print(\"Products shape:\", df_prods.shape)"
   ]
  },
  {
   "cell_type": "markdown",
   "id": "7effdf41-5163-47f9-af78-208f7649e8ff",
   "metadata": {},
   "source": [
    "### 🔹 Step 4: Merge on product_id"
   ]
  },
  {
   "cell_type": "code",
   "execution_count": 8,
   "id": "5fa88185-1856-46de-8145-1cc4925bb3d9",
   "metadata": {},
   "outputs": [],
   "source": [
    "ords_prods_merge = df_combined.merge(df_prods, on='product_id', indicator='merge_flag')"
   ]
  },
  {
   "cell_type": "markdown",
   "id": "c08be884-23c4-4a6b-94c9-56f214200deb",
   "metadata": {},
   "source": [
    "### 🔹 Step 5: Check the Merge"
   ]
  },
  {
   "cell_type": "code",
   "execution_count": 9,
   "id": "db56208f-8211-4e18-b095-3f03a12d4f19",
   "metadata": {},
   "outputs": [
    {
     "name": "stdout",
     "output_type": "stream",
     "text": [
      "merge_flag\n",
      "both          32434212\n",
      "left_only            0\n",
      "right_only           0\n",
      "Name: count, dtype: int64\n",
      "(32434212, 15)\n"
     ]
    }
   ],
   "source": [
    "print(ords_prods_merge['merge_flag'].value_counts())\n",
    "print(ords_prods_merge.shape)"
   ]
  },
  {
   "cell_type": "markdown",
   "id": "3f6fb349-d83c-4507-8bf8-99cdd01e3813",
   "metadata": {},
   "source": [
    "### 🔹 Step 6: Export Final Merged Data"
   ]
  },
  {
   "cell_type": "code",
   "execution_count": 10,
   "id": "b0cfb8b2-032e-4547-9029-3d4d91d738d6",
   "metadata": {},
   "outputs": [],
   "source": [
    "ords_prods_merge.to_pickle(os.path.join(prepared_path, 'ords_prods_merge.pkl'))"
   ]
  },
  {
   "cell_type": "code",
   "execution_count": null,
   "id": "a665563e-aea6-4d9c-904a-1bf16f398c2d",
   "metadata": {},
   "outputs": [],
   "source": []
  }
 ],
 "metadata": {
  "kernelspec": {
   "display_name": "Python [conda env:base] *",
   "language": "python",
   "name": "conda-base-py"
  },
  "language_info": {
   "codemirror_mode": {
    "name": "ipython",
    "version": 3
   },
   "file_extension": ".py",
   "mimetype": "text/x-python",
   "name": "python",
   "nbconvert_exporter": "python",
   "pygments_lexer": "ipython3",
   "version": "3.12.7"
  }
 },
 "nbformat": 4,
 "nbformat_minor": 5
}
